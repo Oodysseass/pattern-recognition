{
  "cells": [
    {
      "cell_type": "markdown",
      "metadata": {},
      "source": [
        "### Odysseas Sofikitis, 10130, sodyssea@ece.auth.gr\n",
        "### Tompulidis Romanos, 10041, romanost@ece.auth.gr"
      ]
    },
    {
      "cell_type": "markdown",
      "metadata": {
        "id": "v5tpLo_meCfW"
      },
      "source": [
        "# Data"
      ]
    },
    {
      "cell_type": "code",
      "execution_count": 1,
      "metadata": {
        "id": "9MnHLHDqjckI"
      },
      "outputs": [],
      "source": [
        "import pandas as pd\n",
        "import numpy as np\n",
        "from sklearn.model_selection import train_test_split\n",
        "\n",
        "def load_data(filename, size):\n",
        "    ## load data\n",
        "    data_file = pd.read_csv(filename, header=None)\n",
        "    data_file = data_file.dropna()\n",
        "\n",
        "    # make train and test sets\n",
        "    data_x = np.array(data_file.drop(data_file.columns[-1], axis=1))\n",
        "    data_y = np.array(data_file[data_file.columns[-1]])\n",
        "\n",
        "    train_x, test_x, train_y, test_y = train_test_split(data_x, data_y,\n",
        "                                                        test_size=size,\n",
        "                                                        stratify=data_y,\n",
        "                                                        random_state=42)\n",
        "\n",
        "    return train_x, test_x, train_y, test_y\n"
      ]
    },
    {
      "cell_type": "code",
      "execution_count": 4,
      "metadata": {},
      "outputs": [
        {
          "name": "stdout",
          "output_type": "stream",
          "text": [
            "No. PCA-Components:25\n"
          ]
        },
        {
          "data": {
            "application/vnd.plotly.v1+json": {
              "config": {
                "plotlyServerURL": "https://plot.ly"
              },
              "data": [
                {
                  "name": "p-value on significance",
                  "type": "scatter",
                  "x": [
                    "PC0",
                    "PC1",
                    "PC2",
                    "PC3",
                    "PC4",
                    "PC5",
                    "PC6",
                    "PC7",
                    "PC8",
                    "PC9",
                    "PC10",
                    "PC11",
                    "PC12",
                    "PC13",
                    "PC14",
                    "PC15",
                    "PC16",
                    "PC17",
                    "PC18",
                    "PC19",
                    "PC20",
                    "PC21",
                    "PC22",
                    "PC23",
                    "PC24",
                    "PC25",
                    "PC26",
                    "PC27",
                    "PC28",
                    "PC29",
                    "PC30",
                    "PC31",
                    "PC32",
                    "PC33",
                    "PC34",
                    "PC35",
                    "PC36",
                    "PC37",
                    "PC38",
                    "PC39",
                    "PC40",
                    "PC41",
                    "PC42",
                    "PC43",
                    "PC44",
                    "PC45",
                    "PC46",
                    "PC47",
                    "PC48",
                    "PC49",
                    "PC50",
                    "PC51",
                    "PC52",
                    "PC53",
                    "PC54",
                    "PC55",
                    "PC56",
                    "PC57",
                    "PC58",
                    "PC59",
                    "PC60",
                    "PC61",
                    "PC62",
                    "PC63",
                    "PC64",
                    "PC65",
                    "PC66",
                    "PC67",
                    "PC68",
                    "PC69",
                    "PC70",
                    "PC71",
                    "PC72",
                    "PC73",
                    "PC74",
                    "PC75",
                    "PC76",
                    "PC77",
                    "PC78",
                    "PC79",
                    "PC80",
                    "PC81",
                    "PC82",
                    "PC83",
                    "PC84",
                    "PC85",
                    "PC86",
                    "PC87",
                    "PC88",
                    "PC89",
                    "PC90",
                    "PC91",
                    "PC92",
                    "PC93",
                    "PC94",
                    "PC95",
                    "PC96",
                    "PC97",
                    "PC98",
                    "PC99",
                    "PC100",
                    "PC101",
                    "PC102",
                    "PC103",
                    "PC104",
                    "PC105",
                    "PC106",
                    "PC107",
                    "PC108",
                    "PC109",
                    "PC110",
                    "PC111",
                    "PC112",
                    "PC113",
                    "PC114",
                    "PC115",
                    "PC116",
                    "PC117",
                    "PC118",
                    "PC119",
                    "PC120",
                    "PC121",
                    "PC122",
                    "PC123",
                    "PC124",
                    "PC125",
                    "PC126",
                    "PC127",
                    "PC128",
                    "PC129",
                    "PC130",
                    "PC131",
                    "PC132",
                    "PC133",
                    "PC134",
                    "PC135",
                    "PC136",
                    "PC137",
                    "PC138",
                    "PC139",
                    "PC140",
                    "PC141",
                    "PC142",
                    "PC143",
                    "PC144",
                    "PC145",
                    "PC146",
                    "PC147",
                    "PC148",
                    "PC149",
                    "PC150",
                    "PC151",
                    "PC152",
                    "PC153",
                    "PC154",
                    "PC155",
                    "PC156",
                    "PC157",
                    "PC158",
                    "PC159",
                    "PC160",
                    "PC161",
                    "PC162",
                    "PC163",
                    "PC164",
                    "PC165",
                    "PC166",
                    "PC167",
                    "PC168",
                    "PC169",
                    "PC170",
                    "PC171",
                    "PC172",
                    "PC173",
                    "PC174",
                    "PC175",
                    "PC176",
                    "PC177",
                    "PC178",
                    "PC179",
                    "PC180",
                    "PC181",
                    "PC182",
                    "PC183",
                    "PC184",
                    "PC185",
                    "PC186",
                    "PC187",
                    "PC188",
                    "PC189",
                    "PC190",
                    "PC191",
                    "PC192",
                    "PC193",
                    "PC194",
                    "PC195",
                    "PC196",
                    "PC197",
                    "PC198",
                    "PC199",
                    "PC200",
                    "PC201",
                    "PC202",
                    "PC203",
                    "PC204",
                    "PC205",
                    "PC206",
                    "PC207",
                    "PC208",
                    "PC209",
                    "PC210",
                    "PC211",
                    "PC212",
                    "PC213",
                    "PC214",
                    "PC215",
                    "PC216",
                    "PC217",
                    "PC218",
                    "PC219",
                    "PC220",
                    "PC221",
                    "PC222",
                    "PC223",
                    "PC224",
                    "PC225",
                    "PC226",
                    "PC227",
                    "PC228",
                    "PC229",
                    "PC230",
                    "PC231",
                    "PC232",
                    "PC233",
                    "PC234",
                    "PC235",
                    "PC236",
                    "PC237",
                    "PC238",
                    "PC239",
                    "PC240",
                    "PC241",
                    "PC242",
                    "PC243",
                    "PC244",
                    "PC245",
                    "PC246",
                    "PC247",
                    "PC248",
                    "PC249",
                    "PC250",
                    "PC251",
                    "PC252",
                    "PC253",
                    "PC254",
                    "PC255",
                    "PC256",
                    "PC257",
                    "PC258",
                    "PC259",
                    "PC260",
                    "PC261",
                    "PC262",
                    "PC263",
                    "PC264",
                    "PC265",
                    "PC266",
                    "PC267",
                    "PC268",
                    "PC269",
                    "PC270",
                    "PC271",
                    "PC272",
                    "PC273",
                    "PC274",
                    "PC275",
                    "PC276",
                    "PC277",
                    "PC278",
                    "PC279",
                    "PC280",
                    "PC281",
                    "PC282",
                    "PC283",
                    "PC284",
                    "PC285",
                    "PC286",
                    "PC287",
                    "PC288",
                    "PC289",
                    "PC290",
                    "PC291",
                    "PC292",
                    "PC293",
                    "PC294",
                    "PC295",
                    "PC296",
                    "PC297",
                    "PC298",
                    "PC299",
                    "PC300",
                    "PC301",
                    "PC302",
                    "PC303",
                    "PC304",
                    "PC305",
                    "PC306",
                    "PC307",
                    "PC308",
                    "PC309",
                    "PC310",
                    "PC311",
                    "PC312",
                    "PC313",
                    "PC314",
                    "PC315",
                    "PC316",
                    "PC317",
                    "PC318",
                    "PC319",
                    "PC320",
                    "PC321",
                    "PC322",
                    "PC323",
                    "PC324",
                    "PC325",
                    "PC326",
                    "PC327",
                    "PC328",
                    "PC329",
                    "PC330",
                    "PC331",
                    "PC332",
                    "PC333",
                    "PC334",
                    "PC335",
                    "PC336",
                    "PC337",
                    "PC338",
                    "PC339",
                    "PC340",
                    "PC341",
                    "PC342",
                    "PC343",
                    "PC344",
                    "PC345",
                    "PC346",
                    "PC347",
                    "PC348",
                    "PC349",
                    "PC350",
                    "PC351",
                    "PC352",
                    "PC353",
                    "PC354",
                    "PC355",
                    "PC356",
                    "PC357",
                    "PC358",
                    "PC359",
                    "PC360",
                    "PC361",
                    "PC362",
                    "PC363",
                    "PC364",
                    "PC365",
                    "PC366",
                    "PC367",
                    "PC368",
                    "PC369",
                    "PC370",
                    "PC371",
                    "PC372",
                    "PC373",
                    "PC374",
                    "PC375",
                    "PC376",
                    "PC377",
                    "PC378",
                    "PC379",
                    "PC380",
                    "PC381",
                    "PC382",
                    "PC383",
                    "PC384",
                    "PC385",
                    "PC386",
                    "PC387",
                    "PC388",
                    "PC389",
                    "PC390",
                    "PC391",
                    "PC392",
                    "PC393",
                    "PC394",
                    "PC395",
                    "PC396",
                    "PC397",
                    "PC398",
                    "PC399",
                    "PC400"
                  ],
                  "y": [
                    0,
                    0,
                    0,
                    0,
                    0,
                    0,
                    0,
                    0,
                    0,
                    0,
                    0,
                    0,
                    0,
                    0,
                    0,
                    0,
                    0,
                    0,
                    0,
                    0,
                    0,
                    0,
                    0,
                    0,
                    0,
                    0,
                    1,
                    1,
                    1,
                    1,
                    1,
                    1,
                    1,
                    1,
                    1,
                    1,
                    1,
                    1,
                    1,
                    1,
                    1,
                    1,
                    1,
                    1,
                    1,
                    1,
                    1,
                    1,
                    1,
                    1,
                    1,
                    1,
                    1,
                    1,
                    1,
                    1,
                    1,
                    1,
                    1,
                    1,
                    1,
                    1,
                    1,
                    1,
                    1,
                    1,
                    1,
                    1,
                    1,
                    1,
                    1,
                    1,
                    1,
                    1,
                    1,
                    1,
                    1,
                    1,
                    1,
                    1,
                    1,
                    1,
                    1,
                    1,
                    1,
                    1,
                    1,
                    1,
                    1,
                    1,
                    1,
                    1,
                    1,
                    1,
                    1,
                    1,
                    1,
                    1,
                    1,
                    1,
                    1,
                    1,
                    1,
                    1,
                    1,
                    1,
                    1,
                    1,
                    1,
                    1,
                    1,
                    1,
                    1,
                    1,
                    1,
                    1,
                    1,
                    1,
                    1,
                    1,
                    1,
                    1,
                    1,
                    1,
                    1,
                    1,
                    1,
                    1,
                    1,
                    1,
                    1,
                    1,
                    1,
                    1,
                    1,
                    1,
                    1,
                    1,
                    1,
                    1,
                    1,
                    1,
                    1,
                    1,
                    1,
                    1,
                    1,
                    1,
                    1,
                    1,
                    1,
                    1,
                    1,
                    1,
                    1,
                    1,
                    1,
                    1,
                    1,
                    1,
                    1,
                    1,
                    1,
                    1,
                    1,
                    1,
                    1,
                    1,
                    1,
                    1,
                    1,
                    1,
                    1,
                    1,
                    1,
                    1,
                    1,
                    1,
                    1,
                    1,
                    1,
                    1,
                    1,
                    1,
                    1,
                    1,
                    1,
                    1,
                    1,
                    1,
                    1,
                    1,
                    1,
                    1,
                    1,
                    1,
                    1,
                    1,
                    1,
                    1,
                    1,
                    1,
                    1,
                    1,
                    1,
                    1,
                    1,
                    1,
                    1,
                    1,
                    1,
                    1,
                    1,
                    1,
                    1,
                    1,
                    1,
                    1,
                    1,
                    1,
                    1,
                    1,
                    1,
                    1,
                    1,
                    1,
                    1,
                    1,
                    1,
                    1,
                    1,
                    1,
                    1,
                    1,
                    1,
                    1,
                    1,
                    1,
                    1,
                    1,
                    1,
                    1,
                    1,
                    1,
                    1,
                    1,
                    1,
                    1,
                    1,
                    1,
                    1,
                    1,
                    1,
                    1,
                    1,
                    1,
                    1,
                    1,
                    1,
                    1,
                    1,
                    1,
                    1,
                    1,
                    1,
                    1,
                    1,
                    1,
                    1,
                    1,
                    1,
                    1,
                    1,
                    1,
                    1,
                    1,
                    1,
                    1,
                    1,
                    1,
                    1,
                    1,
                    1,
                    1,
                    1,
                    1,
                    1,
                    1,
                    1,
                    1,
                    1,
                    1,
                    1,
                    1,
                    1,
                    1,
                    1,
                    1,
                    1,
                    1,
                    1,
                    1,
                    1,
                    1,
                    1,
                    1,
                    1,
                    1,
                    1,
                    1,
                    1,
                    1,
                    1,
                    1,
                    1,
                    1,
                    1,
                    1,
                    1,
                    1,
                    1,
                    1,
                    1,
                    1,
                    1,
                    1,
                    1,
                    1,
                    1,
                    1,
                    1,
                    1,
                    1,
                    1,
                    1,
                    1,
                    1,
                    1,
                    1,
                    1,
                    1,
                    1,
                    1,
                    1,
                    1,
                    1,
                    1,
                    1,
                    1,
                    1,
                    1,
                    1,
                    1,
                    1,
                    1,
                    1,
                    1,
                    1,
                    1,
                    1,
                    1,
                    1,
                    1,
                    1,
                    1,
                    1,
                    1,
                    1,
                    1,
                    1,
                    1,
                    1,
                    1,
                    1,
                    1,
                    1,
                    1,
                    1,
                    1,
                    1,
                    1,
                    1,
                    1,
                    1,
                    1,
                    1,
                    1,
                    1,
                    1,
                    1,
                    1,
                    1,
                    1,
                    1,
                    1,
                    1,
                    1,
                    1,
                    1,
                    1,
                    1
                  ]
                }
              ],
              "layout": {
                "template": {
                  "data": {
                    "bar": [
                      {
                        "error_x": {
                          "color": "#2a3f5f"
                        },
                        "error_y": {
                          "color": "#2a3f5f"
                        },
                        "marker": {
                          "line": {
                            "color": "#E5ECF6",
                            "width": 0.5
                          },
                          "pattern": {
                            "fillmode": "overlay",
                            "size": 10,
                            "solidity": 0.2
                          }
                        },
                        "type": "bar"
                      }
                    ],
                    "barpolar": [
                      {
                        "marker": {
                          "line": {
                            "color": "#E5ECF6",
                            "width": 0.5
                          },
                          "pattern": {
                            "fillmode": "overlay",
                            "size": 10,
                            "solidity": 0.2
                          }
                        },
                        "type": "barpolar"
                      }
                    ],
                    "carpet": [
                      {
                        "aaxis": {
                          "endlinecolor": "#2a3f5f",
                          "gridcolor": "white",
                          "linecolor": "white",
                          "minorgridcolor": "white",
                          "startlinecolor": "#2a3f5f"
                        },
                        "baxis": {
                          "endlinecolor": "#2a3f5f",
                          "gridcolor": "white",
                          "linecolor": "white",
                          "minorgridcolor": "white",
                          "startlinecolor": "#2a3f5f"
                        },
                        "type": "carpet"
                      }
                    ],
                    "choropleth": [
                      {
                        "colorbar": {
                          "outlinewidth": 0,
                          "ticks": ""
                        },
                        "type": "choropleth"
                      }
                    ],
                    "contour": [
                      {
                        "colorbar": {
                          "outlinewidth": 0,
                          "ticks": ""
                        },
                        "colorscale": [
                          [
                            0,
                            "#0d0887"
                          ],
                          [
                            0.1111111111111111,
                            "#46039f"
                          ],
                          [
                            0.2222222222222222,
                            "#7201a8"
                          ],
                          [
                            0.3333333333333333,
                            "#9c179e"
                          ],
                          [
                            0.4444444444444444,
                            "#bd3786"
                          ],
                          [
                            0.5555555555555556,
                            "#d8576b"
                          ],
                          [
                            0.6666666666666666,
                            "#ed7953"
                          ],
                          [
                            0.7777777777777778,
                            "#fb9f3a"
                          ],
                          [
                            0.8888888888888888,
                            "#fdca26"
                          ],
                          [
                            1,
                            "#f0f921"
                          ]
                        ],
                        "type": "contour"
                      }
                    ],
                    "contourcarpet": [
                      {
                        "colorbar": {
                          "outlinewidth": 0,
                          "ticks": ""
                        },
                        "type": "contourcarpet"
                      }
                    ],
                    "heatmap": [
                      {
                        "colorbar": {
                          "outlinewidth": 0,
                          "ticks": ""
                        },
                        "colorscale": [
                          [
                            0,
                            "#0d0887"
                          ],
                          [
                            0.1111111111111111,
                            "#46039f"
                          ],
                          [
                            0.2222222222222222,
                            "#7201a8"
                          ],
                          [
                            0.3333333333333333,
                            "#9c179e"
                          ],
                          [
                            0.4444444444444444,
                            "#bd3786"
                          ],
                          [
                            0.5555555555555556,
                            "#d8576b"
                          ],
                          [
                            0.6666666666666666,
                            "#ed7953"
                          ],
                          [
                            0.7777777777777778,
                            "#fb9f3a"
                          ],
                          [
                            0.8888888888888888,
                            "#fdca26"
                          ],
                          [
                            1,
                            "#f0f921"
                          ]
                        ],
                        "type": "heatmap"
                      }
                    ],
                    "heatmapgl": [
                      {
                        "colorbar": {
                          "outlinewidth": 0,
                          "ticks": ""
                        },
                        "colorscale": [
                          [
                            0,
                            "#0d0887"
                          ],
                          [
                            0.1111111111111111,
                            "#46039f"
                          ],
                          [
                            0.2222222222222222,
                            "#7201a8"
                          ],
                          [
                            0.3333333333333333,
                            "#9c179e"
                          ],
                          [
                            0.4444444444444444,
                            "#bd3786"
                          ],
                          [
                            0.5555555555555556,
                            "#d8576b"
                          ],
                          [
                            0.6666666666666666,
                            "#ed7953"
                          ],
                          [
                            0.7777777777777778,
                            "#fb9f3a"
                          ],
                          [
                            0.8888888888888888,
                            "#fdca26"
                          ],
                          [
                            1,
                            "#f0f921"
                          ]
                        ],
                        "type": "heatmapgl"
                      }
                    ],
                    "histogram": [
                      {
                        "marker": {
                          "pattern": {
                            "fillmode": "overlay",
                            "size": 10,
                            "solidity": 0.2
                          }
                        },
                        "type": "histogram"
                      }
                    ],
                    "histogram2d": [
                      {
                        "colorbar": {
                          "outlinewidth": 0,
                          "ticks": ""
                        },
                        "colorscale": [
                          [
                            0,
                            "#0d0887"
                          ],
                          [
                            0.1111111111111111,
                            "#46039f"
                          ],
                          [
                            0.2222222222222222,
                            "#7201a8"
                          ],
                          [
                            0.3333333333333333,
                            "#9c179e"
                          ],
                          [
                            0.4444444444444444,
                            "#bd3786"
                          ],
                          [
                            0.5555555555555556,
                            "#d8576b"
                          ],
                          [
                            0.6666666666666666,
                            "#ed7953"
                          ],
                          [
                            0.7777777777777778,
                            "#fb9f3a"
                          ],
                          [
                            0.8888888888888888,
                            "#fdca26"
                          ],
                          [
                            1,
                            "#f0f921"
                          ]
                        ],
                        "type": "histogram2d"
                      }
                    ],
                    "histogram2dcontour": [
                      {
                        "colorbar": {
                          "outlinewidth": 0,
                          "ticks": ""
                        },
                        "colorscale": [
                          [
                            0,
                            "#0d0887"
                          ],
                          [
                            0.1111111111111111,
                            "#46039f"
                          ],
                          [
                            0.2222222222222222,
                            "#7201a8"
                          ],
                          [
                            0.3333333333333333,
                            "#9c179e"
                          ],
                          [
                            0.4444444444444444,
                            "#bd3786"
                          ],
                          [
                            0.5555555555555556,
                            "#d8576b"
                          ],
                          [
                            0.6666666666666666,
                            "#ed7953"
                          ],
                          [
                            0.7777777777777778,
                            "#fb9f3a"
                          ],
                          [
                            0.8888888888888888,
                            "#fdca26"
                          ],
                          [
                            1,
                            "#f0f921"
                          ]
                        ],
                        "type": "histogram2dcontour"
                      }
                    ],
                    "mesh3d": [
                      {
                        "colorbar": {
                          "outlinewidth": 0,
                          "ticks": ""
                        },
                        "type": "mesh3d"
                      }
                    ],
                    "parcoords": [
                      {
                        "line": {
                          "colorbar": {
                            "outlinewidth": 0,
                            "ticks": ""
                          }
                        },
                        "type": "parcoords"
                      }
                    ],
                    "pie": [
                      {
                        "automargin": true,
                        "type": "pie"
                      }
                    ],
                    "scatter": [
                      {
                        "fillpattern": {
                          "fillmode": "overlay",
                          "size": 10,
                          "solidity": 0.2
                        },
                        "type": "scatter"
                      }
                    ],
                    "scatter3d": [
                      {
                        "line": {
                          "colorbar": {
                            "outlinewidth": 0,
                            "ticks": ""
                          }
                        },
                        "marker": {
                          "colorbar": {
                            "outlinewidth": 0,
                            "ticks": ""
                          }
                        },
                        "type": "scatter3d"
                      }
                    ],
                    "scattercarpet": [
                      {
                        "marker": {
                          "colorbar": {
                            "outlinewidth": 0,
                            "ticks": ""
                          }
                        },
                        "type": "scattercarpet"
                      }
                    ],
                    "scattergeo": [
                      {
                        "marker": {
                          "colorbar": {
                            "outlinewidth": 0,
                            "ticks": ""
                          }
                        },
                        "type": "scattergeo"
                      }
                    ],
                    "scattergl": [
                      {
                        "marker": {
                          "colorbar": {
                            "outlinewidth": 0,
                            "ticks": ""
                          }
                        },
                        "type": "scattergl"
                      }
                    ],
                    "scattermapbox": [
                      {
                        "marker": {
                          "colorbar": {
                            "outlinewidth": 0,
                            "ticks": ""
                          }
                        },
                        "type": "scattermapbox"
                      }
                    ],
                    "scatterpolar": [
                      {
                        "marker": {
                          "colorbar": {
                            "outlinewidth": 0,
                            "ticks": ""
                          }
                        },
                        "type": "scatterpolar"
                      }
                    ],
                    "scatterpolargl": [
                      {
                        "marker": {
                          "colorbar": {
                            "outlinewidth": 0,
                            "ticks": ""
                          }
                        },
                        "type": "scatterpolargl"
                      }
                    ],
                    "scatterternary": [
                      {
                        "marker": {
                          "colorbar": {
                            "outlinewidth": 0,
                            "ticks": ""
                          }
                        },
                        "type": "scatterternary"
                      }
                    ],
                    "surface": [
                      {
                        "colorbar": {
                          "outlinewidth": 0,
                          "ticks": ""
                        },
                        "colorscale": [
                          [
                            0,
                            "#0d0887"
                          ],
                          [
                            0.1111111111111111,
                            "#46039f"
                          ],
                          [
                            0.2222222222222222,
                            "#7201a8"
                          ],
                          [
                            0.3333333333333333,
                            "#9c179e"
                          ],
                          [
                            0.4444444444444444,
                            "#bd3786"
                          ],
                          [
                            0.5555555555555556,
                            "#d8576b"
                          ],
                          [
                            0.6666666666666666,
                            "#ed7953"
                          ],
                          [
                            0.7777777777777778,
                            "#fb9f3a"
                          ],
                          [
                            0.8888888888888888,
                            "#fdca26"
                          ],
                          [
                            1,
                            "#f0f921"
                          ]
                        ],
                        "type": "surface"
                      }
                    ],
                    "table": [
                      {
                        "cells": {
                          "fill": {
                            "color": "#EBF0F8"
                          },
                          "line": {
                            "color": "white"
                          }
                        },
                        "header": {
                          "fill": {
                            "color": "#C8D4E3"
                          },
                          "line": {
                            "color": "white"
                          }
                        },
                        "type": "table"
                      }
                    ]
                  },
                  "layout": {
                    "annotationdefaults": {
                      "arrowcolor": "#2a3f5f",
                      "arrowhead": 0,
                      "arrowwidth": 1
                    },
                    "autotypenumbers": "strict",
                    "coloraxis": {
                      "colorbar": {
                        "outlinewidth": 0,
                        "ticks": ""
                      }
                    },
                    "colorscale": {
                      "diverging": [
                        [
                          0,
                          "#8e0152"
                        ],
                        [
                          0.1,
                          "#c51b7d"
                        ],
                        [
                          0.2,
                          "#de77ae"
                        ],
                        [
                          0.3,
                          "#f1b6da"
                        ],
                        [
                          0.4,
                          "#fde0ef"
                        ],
                        [
                          0.5,
                          "#f7f7f7"
                        ],
                        [
                          0.6,
                          "#e6f5d0"
                        ],
                        [
                          0.7,
                          "#b8e186"
                        ],
                        [
                          0.8,
                          "#7fbc41"
                        ],
                        [
                          0.9,
                          "#4d9221"
                        ],
                        [
                          1,
                          "#276419"
                        ]
                      ],
                      "sequential": [
                        [
                          0,
                          "#0d0887"
                        ],
                        [
                          0.1111111111111111,
                          "#46039f"
                        ],
                        [
                          0.2222222222222222,
                          "#7201a8"
                        ],
                        [
                          0.3333333333333333,
                          "#9c179e"
                        ],
                        [
                          0.4444444444444444,
                          "#bd3786"
                        ],
                        [
                          0.5555555555555556,
                          "#d8576b"
                        ],
                        [
                          0.6666666666666666,
                          "#ed7953"
                        ],
                        [
                          0.7777777777777778,
                          "#fb9f3a"
                        ],
                        [
                          0.8888888888888888,
                          "#fdca26"
                        ],
                        [
                          1,
                          "#f0f921"
                        ]
                      ],
                      "sequentialminus": [
                        [
                          0,
                          "#0d0887"
                        ],
                        [
                          0.1111111111111111,
                          "#46039f"
                        ],
                        [
                          0.2222222222222222,
                          "#7201a8"
                        ],
                        [
                          0.3333333333333333,
                          "#9c179e"
                        ],
                        [
                          0.4444444444444444,
                          "#bd3786"
                        ],
                        [
                          0.5555555555555556,
                          "#d8576b"
                        ],
                        [
                          0.6666666666666666,
                          "#ed7953"
                        ],
                        [
                          0.7777777777777778,
                          "#fb9f3a"
                        ],
                        [
                          0.8888888888888888,
                          "#fdca26"
                        ],
                        [
                          1,
                          "#f0f921"
                        ]
                      ]
                    },
                    "colorway": [
                      "#636efa",
                      "#EF553B",
                      "#00cc96",
                      "#ab63fa",
                      "#FFA15A",
                      "#19d3f3",
                      "#FF6692",
                      "#B6E880",
                      "#FF97FF",
                      "#FECB52"
                    ],
                    "font": {
                      "color": "#2a3f5f"
                    },
                    "geo": {
                      "bgcolor": "white",
                      "lakecolor": "white",
                      "landcolor": "#E5ECF6",
                      "showlakes": true,
                      "showland": true,
                      "subunitcolor": "white"
                    },
                    "hoverlabel": {
                      "align": "left"
                    },
                    "hovermode": "closest",
                    "mapbox": {
                      "style": "light"
                    },
                    "paper_bgcolor": "white",
                    "plot_bgcolor": "#E5ECF6",
                    "polar": {
                      "angularaxis": {
                        "gridcolor": "white",
                        "linecolor": "white",
                        "ticks": ""
                      },
                      "bgcolor": "#E5ECF6",
                      "radialaxis": {
                        "gridcolor": "white",
                        "linecolor": "white",
                        "ticks": ""
                      }
                    },
                    "scene": {
                      "xaxis": {
                        "backgroundcolor": "#E5ECF6",
                        "gridcolor": "white",
                        "gridwidth": 2,
                        "linecolor": "white",
                        "showbackground": true,
                        "ticks": "",
                        "zerolinecolor": "white"
                      },
                      "yaxis": {
                        "backgroundcolor": "#E5ECF6",
                        "gridcolor": "white",
                        "gridwidth": 2,
                        "linecolor": "white",
                        "showbackground": true,
                        "ticks": "",
                        "zerolinecolor": "white"
                      },
                      "zaxis": {
                        "backgroundcolor": "#E5ECF6",
                        "gridcolor": "white",
                        "gridwidth": 2,
                        "linecolor": "white",
                        "showbackground": true,
                        "ticks": "",
                        "zerolinecolor": "white"
                      }
                    },
                    "shapedefaults": {
                      "line": {
                        "color": "#2a3f5f"
                      }
                    },
                    "ternary": {
                      "aaxis": {
                        "gridcolor": "white",
                        "linecolor": "white",
                        "ticks": ""
                      },
                      "baxis": {
                        "gridcolor": "white",
                        "linecolor": "white",
                        "ticks": ""
                      },
                      "bgcolor": "#E5ECF6",
                      "caxis": {
                        "gridcolor": "white",
                        "linecolor": "white",
                        "ticks": ""
                      }
                    },
                    "title": {
                      "x": 0.05
                    },
                    "xaxis": {
                      "automargin": true,
                      "gridcolor": "white",
                      "linecolor": "white",
                      "ticks": "",
                      "title": {
                        "standoff": 15
                      },
                      "zerolinecolor": "white",
                      "zerolinewidth": 2
                    },
                    "yaxis": {
                      "automargin": true,
                      "gridcolor": "white",
                      "linecolor": "white",
                      "ticks": "",
                      "title": {
                        "standoff": 15
                      },
                      "zerolinecolor": "white",
                      "zerolinewidth": 2
                    }
                  }
                },
                "title": {
                  "text": "PCA Permutation Test p-values"
                }
              }
            }
          },
          "metadata": {},
          "output_type": "display_data"
        }
      ],
      "source": [
        "# decide on pca components\n",
        "from sklearn.decomposition import PCA\n",
        "import plotly.graph_objects as go\n",
        "\n",
        "def de_correlate_df(df):\n",
        "    X_aux = df.copy()\n",
        "    for col in df.columns:\n",
        "        X_aux[col] = df[col].sample(len(df)).values\n",
        "\n",
        "    return X_aux\n",
        "\n",
        "df = pd.read_csv(\"./datasetC.csv\", header=None)\n",
        "\n",
        "pca = PCA()\n",
        "pca.fit(df)\n",
        "original_variance = pca.explained_variance_ratio_\n",
        "\n",
        "N_permutations = 100\n",
        "variance = np.zeros((N_permutations, len(df.columns)))\n",
        "\n",
        "for i in range(N_permutations):\n",
        "    X_aux = de_correlate_df(df)\n",
        "\n",
        "    pca.fit(X_aux)\n",
        "    variance[i, :] = pca.explained_variance_ratio_\n",
        "\n",
        "p_val = np.sum(variance > original_variance, axis=0) / N_permutations\n",
        "num_components = next(i for i, value in enumerate(p_val) if value > 0) - 1\n",
        "print(f\"No. PCA-Components:{num_components}\")\n",
        "\n",
        "fig = go.Figure()\n",
        "fig.add_trace(go.Scatter(x=[f'PC{i}' for i in range(len(df.columns))], y=p_val, name='p-value on significance'))\n",
        "fig.update_layout(title=\"PCA Permutation Test p-values\")"
      ]
    },
    {
      "cell_type": "code",
      "execution_count": 5,
      "metadata": {
        "id": "OHFxTpu21IsH"
      },
      "outputs": [],
      "source": [
        "from sklearn.preprocessing import StandardScaler\n",
        "\n",
        "def preprocess_data(train_x, test_x, train_y, pca_components=None):\n",
        "    # normalize\n",
        "    scaler = StandardScaler()\n",
        "    train_x = scaler.fit_transform(train_x)\n",
        "    test_x = scaler.transform(test_x)\n",
        "\n",
        "    if pca_components:\n",
        "        # pca for outliers\n",
        "        pca = PCA(n_components=num_components)\n",
        "        x_pca = pca.fit_transform(train_x)\n",
        "\n",
        "        x_reconstructed = pca.inverse_transform(x_pca)\n",
        "        reconstruction_errors = np.linalg.norm(train_x - x_reconstructed, axis=1)\n",
        "\n",
        "        threshold = np.percentile(reconstruction_errors, 99.95)\n",
        "\n",
        "        train_x = train_x[reconstruction_errors <= threshold]\n",
        "        train_y = train_y[reconstruction_errors <= threshold]\n",
        "\n",
        "    if pca_components:\n",
        "        # pca for dimensionality\n",
        "        pca = PCA(n_components=pca_components)\n",
        "        train_x = pca.fit_transform(train_x)\n",
        "        test_x = pca.transform(test_x)\n",
        "\n",
        "    return train_x, test_x, train_y"
      ]
    },
    {
      "cell_type": "markdown",
      "metadata": {
        "id": "Ckrdx9j0wM_W"
      },
      "source": [
        "# k-NN"
      ]
    },
    {
      "cell_type": "markdown",
      "metadata": {
        "id": "hYCLE_t-w1gw"
      },
      "source": [
        "## Cross-Validation"
      ]
    },
    {
      "cell_type": "code",
      "execution_count": 7,
      "metadata": {
        "colab": {
          "base_uri": "https://localhost:8080/"
        },
        "id": "hWrFULjiwMNS",
        "outputId": "16d80207-fb66-4723-cea2-f40968430e26"
      },
      "outputs": [
        {
          "name": "stdout",
          "output_type": "stream",
          "text": [
            "Best parameters: {'n_neighbors': 16, 'weights': 'distance'}\n"
          ]
        }
      ],
      "source": [
        "from sklearn.model_selection import GridSearchCV\n",
        "from sklearn.neighbors import KNeighborsClassifier\n",
        "\n",
        "# loading data\n",
        "train_x, test_x, train_y, test_y = load_data(\"./datasetC.csv\", 0.2)\n",
        "\n",
        "train_x, test_x, train_y = preprocess_data(train_x, test_x, train_y, num_components)\n",
        "\n",
        "\n",
        "# grid search\n",
        "params = {\n",
        "    'n_neighbors': [2, 4, 8, 16, 32],\n",
        "    'weights': ['uniform', 'distance'],\n",
        "}\n",
        "\n",
        "model = KNeighborsClassifier()\n",
        "\n",
        "grid = GridSearchCV(model, params, cv=5, n_jobs=-1)\n",
        "grid.fit(train_x, train_y)\n",
        "print(\"Best parameters:\", grid.best_params_)\n",
        "\n",
        "best_model = grid.best_estimator_"
      ]
    },
    {
      "cell_type": "markdown",
      "metadata": {
        "id": "OchIZjNgyHfv"
      },
      "source": [
        "## Results"
      ]
    },
    {
      "cell_type": "code",
      "execution_count": 8,
      "metadata": {
        "colab": {
          "base_uri": "https://localhost:8080/",
          "height": 472
        },
        "id": "CUFtmgsJyGOY",
        "outputId": "0c61481b-ba85-4e76-ebc3-a3aa0a569a09"
      },
      "outputs": [
        {
          "name": "stdout",
          "output_type": "stream",
          "text": [
            "Accuracy: 88.20%\n"
          ]
        },
        {
          "data": {
            "image/png": "[encoded data removed]",
            "text/plain": [
              "<Figure size 640x480 with 2 Axes>"
            ]
          },
          "metadata": {},
          "output_type": "display_data"
        }
      ],
      "source": [
        "from sklearn.metrics import accuracy_score, ConfusionMatrixDisplay\n",
        "from matplotlib import pyplot as plt\n",
        "\n",
        "\n",
        "# test model\n",
        "pred_y = best_model.predict(test_x)\n",
        "\n",
        "# evaluate the performance of the model\n",
        "accuracy = accuracy_score(test_y, pred_y)\n",
        "ConfusionMatrixDisplay.from_predictions(test_y, pred_y)\n",
        "\n",
        "print(f'Accuracy: {100*accuracy:.2f}%')\n",
        "plt.show()\n"
      ]
    },
    {
      "cell_type": "markdown",
      "metadata": {
        "id": "2smAWt-Ie4dY"
      },
      "source": [
        "# MLP"
      ]
    },
    {
      "cell_type": "markdown",
      "metadata": {
        "id": "5gWR38EOe7R6"
      },
      "source": [
        "## The network"
      ]
    },
    {
      "cell_type": "code",
      "execution_count": null,
      "metadata": {
        "id": "dBO1akOesngn"
      },
      "outputs": [],
      "source": [
        "import torch.nn as nn\n",
        "\n",
        "class Network(nn.Module):\n",
        "    def __init__(self, hidden_dim, input_dim, output_dim):\n",
        "        super().__init__()\n",
        "        self.flatten = nn.Flatten()\n",
        "\n",
        "        layers = []\n",
        "        sizes = [input_dim] + hidden_dim + [output_dim]\n",
        "\n",
        "        for i in range(len(sizes) - 1):\n",
        "            layers.append(nn.Linear(sizes[i], sizes[i + 1]))\n",
        "            if i < len(sizes) - 2:\n",
        "                layers.append(nn.ReLU())\n",
        "\n",
        "        self.linear_relu_stack = nn.Sequential(*layers)\n",
        "\n",
        "    def forward(self, x):\n",
        "        x = self.flatten(x)\n",
        "        x = self.linear_relu_stack(x)\n",
        "        return x\n",
        "\n",
        "batch_size = 32"
      ]
    },
    {
      "cell_type": "markdown",
      "metadata": {
        "id": "27kabPmHfAJo"
      },
      "source": [
        "## Train & Test"
      ]
    },
    {
      "cell_type": "code",
      "execution_count": null,
      "metadata": {
        "id": "xAe7IOR3-SAD"
      },
      "outputs": [],
      "source": [
        "def train_loop(model, dataloader, loss_function, optimizer, device):\n",
        "    for batch, (X, y) in enumerate(dataloader):\n",
        "        X = X.to(device)\n",
        "        y = y.to(device)\n",
        "\n",
        "        pred = model(X)\n",
        "        loss = loss_function(pred, y)\n",
        "\n",
        "        optimizer.zero_grad()\n",
        "        loss.backward()\n",
        "        optimizer.step()\n",
        "    return"
      ]
    },
    {
      "cell_type": "code",
      "execution_count": null,
      "metadata": {
        "id": "mJWuC95XEokD"
      },
      "outputs": [],
      "source": [
        "def test(model, dataloader, device, return_accuracy=False):\n",
        "    size = len(dataloader) * batch_size\n",
        "    correct = 0\n",
        "\n",
        "    model.eval()\n",
        "    with torch.no_grad():\n",
        "        for X, y in dataloader:\n",
        "\n",
        "            X = X.to(device)\n",
        "            y = y.to(device)\n",
        "\n",
        "            pred = model(X)\n",
        "            correct += (pred.argmax(dim=1) == y).type(torch.float).sum().item()\n",
        "\n",
        "    correct /= size\n",
        "\n",
        "    if return_accuracy:\n",
        "      return 100 * correct"
      ]
    },
    {
      "cell_type": "markdown",
      "metadata": {
        "id": "VrZkABm9fG25"
      },
      "source": [
        "## Preprocess Data"
      ]
    },
    {
      "cell_type": "code",
      "execution_count": null,
      "metadata": {
        "id": "Yl3yvmHR2FCo"
      },
      "outputs": [],
      "source": [
        "import torch\n",
        "from torch.utils.data import DataLoader, TensorDataset\n",
        "\n",
        "train_x, test_x, train_y, test_y = load_data(\"./datasetC.csv\", 0.2)\n",
        "train_x, test_x, train_y = preprocess_data(train_x, test_x, train_y, num_components)\n",
        "\n",
        "train_x = np.float32(train_x)\n",
        "test_x = np.float32(test_x)\n",
        "train_y = train_y - 1\n",
        "test_y = test_y - 1\n",
        "\n",
        "train_x = torch.from_numpy(train_x)\n",
        "test_x = torch.from_numpy(test_x)\n",
        "train_y = torch.from_numpy(train_y)\n",
        "test_y = torch.from_numpy(test_y)\n",
        "\n",
        "train_dataset = TensorDataset(train_x, train_y)\n",
        "train_loader = DataLoader(train_dataset, batch_size=batch_size, shuffle=True)\n",
        "test_dataset = TensorDataset(test_x, test_y)\n",
        "test_loader = DataLoader(test_dataset, batch_size=batch_size, shuffle=True)"
      ]
    },
    {
      "cell_type": "code",
      "execution_count": null,
      "metadata": {
        "colab": {
          "base_uri": "https://localhost:8080/"
        },
        "id": "ymVM2YsK3gzq",
        "outputId": "a10840d2-712a-44e5-c96e-aa281b90721a"
      },
      "outputs": [
        {
          "name": "stdout",
          "output_type": "stream",
          "text": [
            "Using cuda device\n"
          ]
        }
      ],
      "source": [
        "device = \"cuda\" if torch.cuda.is_available() else \"cpu\"\n",
        "print(f\"Using {device} device\")"
      ]
    },
    {
      "cell_type": "markdown",
      "metadata": {
        "id": "getfkN2DfMmJ"
      },
      "source": [
        "## GridSearch"
      ]
    },
    {
      "cell_type": "code",
      "execution_count": null,
      "metadata": {
        "colab": {
          "base_uri": "https://localhost:8080/"
        },
        "id": "wXrGyByu5I1-",
        "outputId": "35f0e9e9-e2f5-4e9a-e57b-bd47f9a11da2"
      },
      "outputs": [
        {
          "name": "stdout",
          "output_type": "stream",
          "text": [
            "-----Learning Rate=0.001------\n",
            "Epoch 20\n",
            "Test Error: \n",
            " Accuracy: 83.79%\n",
            "\n",
            "Epoch 40\n",
            "Test Error: \n",
            " Accuracy: 85.25%\n",
            "\n",
            "Epoch 60\n",
            "Test Error: \n",
            " Accuracy: 85.84%\n",
            "\n",
            "Epoch 80\n",
            "Test Error: \n",
            " Accuracy: 85.55%\n",
            "\n",
            "Epoch 100\n",
            "Test Error: \n",
            " Accuracy: 85.55%\n",
            "\n",
            "-----Learning Rate=0.0001------\n",
            "Epoch 20\n",
            "Test Error: \n",
            " Accuracy: 74.22%\n",
            "\n",
            "Epoch 40\n",
            "Test Error: \n",
            " Accuracy: 78.52%\n",
            "\n",
            "Epoch 60\n",
            "Test Error: \n",
            " Accuracy: 81.15%\n",
            "\n",
            "Epoch 80\n",
            "Test Error: \n",
            " Accuracy: 81.35%\n",
            "\n",
            "Epoch 100\n",
            "Test Error: \n",
            " Accuracy: 81.84%\n",
            "\n",
            "-----Learning Rate=1e-05------\n",
            "Epoch 20\n",
            "Test Error: \n",
            " Accuracy: 23.44%\n",
            "\n",
            "Epoch 40\n",
            "Test Error: \n",
            " Accuracy: 33.40%\n",
            "\n",
            "Epoch 60\n",
            "Test Error: \n",
            " Accuracy: 43.46%\n",
            "\n",
            "Epoch 80\n",
            "Test Error: \n",
            " Accuracy: 47.56%\n",
            "\n",
            "Epoch 100\n",
            "Test Error: \n",
            " Accuracy: 49.32%\n",
            "\n",
            "\n",
            "Training completed!\n",
            "\n",
            "Best parameters: {'learning_rate': 0.001, 'epochs': 91}\n"
          ]
        }
      ],
      "source": [
        "input_dim = train_x.shape[1]\n",
        "output_dim = max(train_y) + 1\n",
        "\n",
        "hidden_dims = [input_dim // 2, 2 * output_dim]\n",
        "learning_rates = [1e-3, 1e-4, 1e-5]\n",
        "epochs = 100\n",
        "\n",
        "loss_function = nn.CrossEntropyLoss()\n",
        "\n",
        "best_accuracy = 0.0\n",
        "best_params = {}\n",
        "for lr in learning_rates:\n",
        "    print(f'-----Learning Rate={lr}------')\n",
        "\n",
        "    model = Network(hidden_dims, input_dim, output_dim).to(device)\n",
        "    optimizer = torch.optim.Adam(model.parameters(), lr=lr)\n",
        "\n",
        "    for epoch in range(1, epochs + 1):\n",
        "        train_loop(model, train_loader, loss_function, optimizer, device)\n",
        "\n",
        "        accuracy = test(model, test_loader, device, return_accuracy=True)\n",
        "        if accuracy > best_accuracy:\n",
        "            best_accuracy = accuracy\n",
        "            best_params = {'learning_rate': lr, 'epochs': epoch}\n",
        "            torch.save(model.state_dict(), 'best_model.pth')\n",
        "\n",
        "        if epoch % 20 == 0:\n",
        "            print(f'Epoch {epoch}')\n",
        "            print(f\"Test Error: \\n Accuracy: {accuracy:.2f}%\\n\")\n",
        "\n",
        "print(\"\\nTraining completed!\")\n",
        "print(\"\\nBest parameters:\", best_params)"
      ]
    },
    {
      "cell_type": "markdown",
      "metadata": {
        "id": "d2UYfOimfSEk"
      },
      "source": [
        "## Final Results"
      ]
    },
    {
      "cell_type": "code",
      "execution_count": null,
      "metadata": {
        "colab": {
          "base_uri": "https://localhost:8080/"
        },
        "id": "c3984w1YYF0R",
        "outputId": "20add138-4e2f-4ee8-ddaa-08fc2c2d1c79"
      },
      "outputs": [
        {
          "name": "stdout",
          "output_type": "stream",
          "text": [
            "Load the best model\n",
            "Final accuracy: 86.13%\n",
            "\n"
          ]
        }
      ],
      "source": [
        "print(\"Load the best model\")\n",
        "best_model = Network(hidden_dims, input_dim, output_dim).to(device)\n",
        "best_model.load_state_dict(torch.load('best_model.pth'))\n",
        "\n",
        "accuracy = test(best_model, test_loader, device, return_accuracy=True)\n",
        "print(f\"Final accuracy: {accuracy:.2f}%\\n\")\n"
      ]
    },
    {
      "cell_type": "markdown",
      "metadata": {
        "id": "O1ELYPAtfogc"
      },
      "source": [
        "# SVM"
      ]
    },
    {
      "cell_type": "markdown",
      "metadata": {
        "id": "tP0adUXWiIbF"
      },
      "source": [
        "## Cross-Validation"
      ]
    },
    {
      "cell_type": "code",
      "execution_count": 16,
      "metadata": {
        "colab": {
          "base_uri": "https://localhost:8080/"
        },
        "id": "Y0UIErzefnS6",
        "outputId": "8c6ea2df-fb90-4fff-9f67-e45b3b289bcc"
      },
      "outputs": [
        {
          "name": "stdout",
          "output_type": "stream",
          "text": [
            "Best parameters: {'C': 1.0, 'gamma': 'auto'}\n"
          ]
        }
      ],
      "source": [
        "from sklearn.svm import SVC\n",
        "from sklearn.model_selection import GridSearchCV\n",
        "\n",
        "# loading data\n",
        "train_x, test_x, train_y, test_y = load_data(\"./datasetC.csv\", 0.2)\n",
        "\n",
        "train_x, test_x, train_y = preprocess_data(train_x, test_x, train_y, num_components)\n",
        "\n",
        "\n",
        "# grid search\n",
        "params = {\n",
        "    'C': [1.0, 10.0, 100.0],\n",
        "    'gamma': ['auto', 'scale']\n",
        "}\n",
        "\n",
        "model = SVC(random_state=42)\n",
        "\n",
        "grid = GridSearchCV(model, params, cv=5, n_jobs=-1)\n",
        "grid.fit(train_x, train_y)\n",
        "print(\"Best parameters:\", grid.best_params_)\n",
        "\n",
        "best_model = grid.best_estimator_"
      ]
    },
    {
      "cell_type": "markdown",
      "metadata": {
        "id": "nv0jzS28ldJt"
      },
      "source": [
        "## Results"
      ]
    },
    {
      "cell_type": "code",
      "execution_count": 17,
      "metadata": {
        "colab": {
          "base_uri": "https://localhost:8080/",
          "height": 466
        },
        "id": "iveazahBiGgA",
        "outputId": "167240b0-8850-41f3-f10e-c7e45d76e0cf"
      },
      "outputs": [
        {
          "name": "stdout",
          "output_type": "stream",
          "text": [
            "Accuracy: 91.30%\n"
          ]
        },
        {
          "data": {
            "image/png": "[encoded data removed]",
            "text/plain": [
              "<Figure size 640x480 with 2 Axes>"
            ]
          },
          "metadata": {},
          "output_type": "display_data"
        }
      ],
      "source": [
        "from sklearn.metrics import accuracy_score, ConfusionMatrixDisplay\n",
        "from matplotlib import pyplot as plt\n",
        "\n",
        "# test model\n",
        "pred_y = best_model.predict(test_x)\n",
        "\n",
        "# evaluate the performance of the model\n",
        "accuracy = accuracy_score(test_y, pred_y)\n",
        "ConfusionMatrixDisplay.from_predictions(test_y, pred_y)\n",
        "\n",
        "print(f'Accuracy: {100*accuracy:.2f}%')\n",
        "plt.show()\n"
      ]
    }
  ],
  "metadata": {
    "accelerator": "GPU",
    "colab": {
      "collapsed_sections": [
        "v5tpLo_meCfW",
        "Ckrdx9j0wM_W",
        "hYCLE_t-w1gw",
        "2smAWt-Ie4dY",
        "5gWR38EOe7R6",
        "27kabPmHfAJo",
        "VrZkABm9fG25",
        "getfkN2DfMmJ",
        "d2UYfOimfSEk",
        "O1ELYPAtfogc"
      ],
      "provenance": []
    },
    "kernelspec": {
      "display_name": "Python 3",
      "name": "python3"
    },
    "language_info": {
      "codemirror_mode": {
        "name": "ipython",
        "version": 3
      },
      "file_extension": ".py",
      "mimetype": "text/x-python",
      "name": "python",
      "nbconvert_exporter": "python",
      "pygments_lexer": "ipython3",
      "version": "3.11.5"
    }
  },
  "nbformat": 4,
  "nbformat_minor": 0
}
