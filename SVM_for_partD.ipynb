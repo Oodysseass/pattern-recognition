{
  "nbformat": 4,
  "nbformat_minor": 0,
  "metadata": {
    "colab": {
      "provenance": [],
      "authorship_tag": "ABX9TyMlcqEpgDcZ1NLmilQdtHma",
      "include_colab_link": true
    },
    "kernelspec": {
      "name": "python3",
      "display_name": "Python 3"
    },
    "language_info": {
      "name": "python"
    }
  },
  "cells": [
    {
      "cell_type": "markdown",
      "metadata": {
        "id": "view-in-github",
        "colab_type": "text"
      },
      "source": [
        "<a href=\"https://colab.research.google.com/github/Oodysseass/pattern-recognition/blob/romanos/SVM_for_partD.ipynb\" target=\"_parent\"><img src=\"https://colab.research.google.com/assets/colab-badge.svg\" alt=\"Open In Colab\"/></a>"
      ]
    },
    {
      "cell_type": "code",
      "execution_count": 1,
      "metadata": {
        "id": "53B5-rfsjEfr"
      },
      "outputs": [],
      "source": [
        "#First we will try SVM because:\n",
        "#    Effective for high-dimensional spaces.\n",
        "#    Works well for both linear and non-linear data.\n",
        "#    Can be memory-intensive for large datasets.(our 5000 samples are not that large)\n",
        "#    We also have it from part C"
      ]
    },
    {
      "cell_type": "code",
      "source": [
        "import numpy as np\n",
        "from sklearn.model_selection import train_test_split\n",
        "from sklearn.preprocessing import StandardScaler\n",
        "from sklearn.svm import SVC\n",
        "from sklearn.metrics import accuracy_score, classification_report, confusion_matrix\n",
        "import matplotlib.pyplot as plt\n",
        "\n",
        "#Loading data\n",
        "data = np.loadtxt(\"datasetC.csv\", delimiter=\",\", dtype=np.float64)\n",
        "print (data)\n",
        "\n",
        "\n",
        "#Last column containing Labels\n",
        "features = data[:,0:-1]\n",
        "labels = data[:, -1]\n",
        "\n",
        "#Split the data into training and testing sets\n",
        "X_train, X_test, y_train, y_test = train_test_split(features, labels, test_size=0.2, random_state=42)\n",
        "\n",
        "#Scaling the features\n",
        "#scaler = StandardScaler()\n",
        "#X_train_scaled = scaler.fit_transform(X_train)\n",
        "#X_test_scaled = scaler.fit_transform(X_test)\n",
        "#print (X_train_scaled)\n",
        "\n",
        "#Initialize the SVM\n",
        "classifier = SVC(kernel='rbf', C=1.0, gamma='scale', random_state=42)\n",
        "\n",
        "# Train the SVM model\n",
        "classifier.fit(X_train, y_train)\n",
        "\n",
        "# Make predictions on the test set\n",
        "y_pred = classifier.predict(X_test)\n",
        "\n",
        "# Evaluate the performance of the model\n",
        "accuracy = accuracy_score(y_test, y_pred)\n",
        "conf_matrix = confusion_matrix(y_test, y_pred)\n",
        "classification_rep = classification_report(y_test, y_pred)\n",
        "\n",
        "print(f'Accuracy: {accuracy:.2f}')\n",
        "print('\\nConfusion Matrix:')\n",
        "print(conf_matrix)\n",
        "print('\\nClassification Report:')\n",
        "print(classification_rep)\n",
        "\n"
      ],
      "metadata": {
        "colab": {
          "base_uri": "https://localhost:8080/"
        },
        "id": "Pk0XCvzCj2TN",
        "outputId": "6672655c-c7d3-4853-b92e-c8b4977ec7d2"
      },
      "execution_count": 6,
      "outputs": [
        {
          "output_type": "stream",
          "name": "stdout",
          "text": [
            "[[ 0.13155   0.84036  -1.1277   ... -0.76285   0.33389   5.      ]\n",
            " [-0.2425    0.51161  -1.0429   ...  0.42895  -0.83821   4.      ]\n",
            " [ 0.22558   0.25723   1.5195   ... -0.88156   0.75886   1.      ]\n",
            " ...\n",
            " [ 2.0313    0.13828   1.4753   ... -0.21938   0.4007    2.      ]\n",
            " [-0.47172  -0.45778   0.86395  ...  0.11341   1.7662    3.      ]\n",
            " [ 0.74697   0.025161  1.3557   ...  0.21997   0.42807   4.      ]]\n",
            "Accuracy: 0.85\n",
            "\n",
            "Confusion Matrix:\n",
            "[[205   2   0   1   7]\n",
            " [ 16 169  10  11   4]\n",
            " [  4   6 180   9  15]\n",
            " [ 11   9   2 182   6]\n",
            " [  3   2  22   8 116]]\n",
            "\n",
            "Classification Report:\n",
            "              precision    recall  f1-score   support\n",
            "\n",
            "         1.0       0.86      0.95      0.90       215\n",
            "         2.0       0.90      0.80      0.85       210\n",
            "         3.0       0.84      0.84      0.84       214\n",
            "         4.0       0.86      0.87      0.86       210\n",
            "         5.0       0.78      0.77      0.78       151\n",
            "\n",
            "    accuracy                           0.85      1000\n",
            "   macro avg       0.85      0.85      0.85      1000\n",
            "weighted avg       0.85      0.85      0.85      1000\n",
            "\n"
          ]
        }
      ]
    }
  ]
}